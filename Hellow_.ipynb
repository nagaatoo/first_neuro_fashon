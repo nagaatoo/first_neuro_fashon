{
  "nbformat": 4,
  "nbformat_minor": 0,
  "metadata": {
    "colab": {
      "name": "Hellow_.ipynb",
      "provenance": [],
      "authorship_tag": "ABX9TyNvsf+dxDvQRkFnlKeqw/JS",
      "include_colab_link": true
    },
    "kernelspec": {
      "name": "python3",
      "display_name": "Python 3"
    }
  },
  "cells": [
    {
      "cell_type": "markdown",
      "metadata": {
        "id": "view-in-github",
        "colab_type": "text"
      },
      "source": [
        "<a href=\"https://colab.research.google.com/github/nagaatoo/first_neuro_fashon/blob/master/Hellow_.ipynb\" target=\"_parent\"><img src=\"https://colab.research.google.com/assets/colab-badge.svg\" alt=\"Open In Colab\"/></a>"
      ]
    },
    {
      "cell_type": "markdown",
      "metadata": {
        "id": "LUFHQCkZWmyf",
        "colab_type": "text"
      },
      "source": [
        "import headers"
      ]
    },
    {
      "cell_type": "code",
      "metadata": {
        "id": "C0hJLikQWD8v",
        "colab_type": "code",
        "colab": {}
      },
      "source": [
        "from tensorflow.keras.datasets import fashion_mnist\n",
        "from tensorflow.keras.models import Sequential\n",
        "from tensorflow.keras.layers import Dense\n",
        "from tensorflow.keras import utils\n",
        "from tensorflow.keras.preprocessing import image\n",
        "import numpy as np\n",
        "from google.colab import files\n",
        "from PIL import Image"
      ],
      "execution_count": 0,
      "outputs": []
    },
    {
      "cell_type": "markdown",
      "metadata": {
        "id": "p2XwJptXWjgH",
        "colab_type": "text"
      },
      "source": [
        "Create model"
      ]
    },
    {
      "cell_type": "code",
      "metadata": {
        "id": "yMeYO957XsFl",
        "colab_type": "code",
        "colab": {}
      },
      "source": [
        "\n",
        "def create_model():\n",
        "\n",
        "    # создаём модель (сама сеть, в рамках понятий Keras.\n",
        "    # в данном случае - последовательная сеть)\n",
        "    model = Sequential()\n",
        "\n",
        "    # добавляем слои сети (Dense - полносвязный уровень)\n",
        "    # input_dim - количество входов в каждый нейрон\n",
        "    # activation - \n",
        "    model.add(Dense(800, input_dim=784, activation=\"relu\"))\n",
        "    model.add(Dense(10, activation=\"softmax\"))\n",
        "\n",
        "    # Компилируем модель\n",
        "    # SGD - стахостический градиентный спуск (тип обучения)\n",
        "    # categorical_crossentropy - функция ошибки (категориальная перекрёстная энтропия, хороша для классификации)\n",
        "    # accuracy - метрика качества (доля верных ответов в нейронной сети)\n",
        "    model.compile(loss=\"categorical_crossentropy\", optimizer=\"SGD\", metrics=[\"accuracy\"])\n",
        "\n",
        "    print(\"### model ###\")\n",
        "    print(model.summary())\n",
        "    return model"
      ],
      "execution_count": 0,
      "outputs": []
    },
    {
      "cell_type": "markdown",
      "metadata": {
        "id": "zP905LyXX3Wq",
        "colab_type": "text"
      },
      "source": [
        "Create map for clothes"
      ]
    },
    {
      "cell_type": "code",
      "metadata": {
        "id": "D5b38PZRYBR0",
        "colab_type": "code",
        "colab": {}
      },
      "source": [
        "classes = ['футблока', 'брюки', 'свитер', 'платье',\n",
        "           'пальто', 'туфли', 'рубашка', 'кроссовки' ,'сумка', 'боты']"
      ],
      "execution_count": 0,
      "outputs": []
    },
    {
      "cell_type": "markdown",
      "metadata": {
        "id": "hPe7pPamYGJq",
        "colab_type": "text"
      },
      "source": [
        "Create model, learn and check"
      ]
    },
    {
      "cell_type": "code",
      "metadata": {
        "id": "d4B_K9IZcD0U",
        "colab_type": "code",
        "colab": {
          "base_uri": "https://localhost:8080/",
          "height": 1000
        },
        "outputId": "9ff01322-ac6b-43af-d906-ac547c073754"
      },
      "source": [
        "\n",
        "#x_train - изображения (обучающая выборка)\n",
        "#y_train - изображения с метками (верными ответами)\n",
        "#x_test, y_test - тестовая выборка\n",
        "(x_train, y_train), (x_test, y_test) = fashion_mnist.load_data()\n",
        "\n",
        "# в x_train - 2d изображения (28х28).\n",
        "# Для скармливания её сети, преобразуем её в плоский вектор\n",
        "# 60000 изображений, в каждом 784 пикселя\n",
        "x_train = x_train.reshape(60000, 784)\n",
        "x_test = x_test.reshape(10000, 784)\n",
        "\n",
        "# нормализируем (делим интенсивность изображения на 255 (пиксели в градации серого))\n",
        "x_train = x_train / 255\n",
        "x_test = x_test / 255 \n",
        "\n",
        "# Преборазуем метки в категории\n",
        "# one hotten code\n",
        "# 0 .. 9 - номера классов в метках \n",
        "# преобразуем в\n",
        "# 0 -> [1, 0, 0, 0, 0, 0, 0, 0, 0, 0]\n",
        "# ...\n",
        "# 9 -> [0, 0, 0, 0, 0, 0, 0, 0, 0, 1]\n",
        "# y_train - данные с метками 10 - кол-во классов\n",
        "y_train = utils.to_categorical(y_train, 10)\n",
        "y_test = utils.to_categorical(y_test, 10)\n",
        "\n",
        "# создадим модель\n",
        "model = create_model()\n",
        "\n",
        "# Обучим сеть\n",
        "# обучаем с учитилем -> передаём правильные ответы\n",
        "# batch_size - размер мини-выборки (т.к. используем метод градиентного спуска для для\n",
        "#                                   обучения)\n",
        "#                                   (т.е. берём 200 изображений, расчитываем функцию ошибки, считаем градиент и меняем веса)\n",
        "# epochs - количество эпох (1 эпоха - обучение на всём наборе данных)\n",
        "# validation_split - процент от всего набора данных, который будет использоваться в качестве проверочной выборки\n",
        "# verbose - вывод прогресса\n",
        "model.fit(x_train,\n",
        "          y_train,\n",
        "          batch_size=200,\n",
        "          epochs=100,\n",
        "          validation_split=0.2,\n",
        "          verbose=1)\n",
        "\n",
        "# Отдаём нейросети входные данные (тестовые данные)\n",
        "predictions = model.predict(x_train)"
      ],
      "execution_count": 13,
      "outputs": [
        {
          "output_type": "stream",
          "text": [
            "### model ###\n",
            "Model: \"sequential_2\"\n",
            "_________________________________________________________________\n",
            "Layer (type)                 Output Shape              Param #   \n",
            "=================================================================\n",
            "dense_4 (Dense)              (None, 800)               628000    \n",
            "_________________________________________________________________\n",
            "dense_5 (Dense)              (None, 10)                8010      \n",
            "=================================================================\n",
            "Total params: 636,010\n",
            "Trainable params: 636,010\n",
            "Non-trainable params: 0\n",
            "_________________________________________________________________\n",
            "None\n",
            "Epoch 1/100\n",
            "240/240 [==============================] - 4s 15ms/step - loss: 1.2178 - accuracy: 0.6461 - val_loss: 0.8557 - val_accuracy: 0.7383\n",
            "Epoch 2/100\n",
            "240/240 [==============================] - 4s 15ms/step - loss: 0.7755 - accuracy: 0.7585 - val_loss: 0.7040 - val_accuracy: 0.7793\n",
            "Epoch 3/100\n",
            "240/240 [==============================] - 3s 14ms/step - loss: 0.6735 - accuracy: 0.7888 - val_loss: 0.6383 - val_accuracy: 0.7950\n",
            "Epoch 4/100\n",
            "240/240 [==============================] - 4s 15ms/step - loss: 0.6184 - accuracy: 0.8034 - val_loss: 0.5942 - val_accuracy: 0.8084\n",
            "Epoch 5/100\n",
            "240/240 [==============================] - 4s 15ms/step - loss: 0.5824 - accuracy: 0.8138 - val_loss: 0.5657 - val_accuracy: 0.8155\n",
            "Epoch 6/100\n",
            "240/240 [==============================] - 3s 15ms/step - loss: 0.5561 - accuracy: 0.8212 - val_loss: 0.5455 - val_accuracy: 0.8204\n",
            "Epoch 7/100\n",
            "240/240 [==============================] - 4s 15ms/step - loss: 0.5364 - accuracy: 0.8252 - val_loss: 0.5291 - val_accuracy: 0.8225\n",
            "Epoch 8/100\n",
            "240/240 [==============================] - 4s 15ms/step - loss: 0.5208 - accuracy: 0.8290 - val_loss: 0.5151 - val_accuracy: 0.8286\n",
            "Epoch 9/100\n",
            "240/240 [==============================] - 4s 15ms/step - loss: 0.5078 - accuracy: 0.8312 - val_loss: 0.5078 - val_accuracy: 0.8293\n",
            "Epoch 10/100\n",
            "240/240 [==============================] - 4s 15ms/step - loss: 0.4970 - accuracy: 0.8358 - val_loss: 0.4973 - val_accuracy: 0.8313\n",
            "Epoch 11/100\n",
            "240/240 [==============================] - 3s 14ms/step - loss: 0.4875 - accuracy: 0.8374 - val_loss: 0.4873 - val_accuracy: 0.8343\n",
            "Epoch 12/100\n",
            "240/240 [==============================] - 3s 14ms/step - loss: 0.4794 - accuracy: 0.8404 - val_loss: 0.4807 - val_accuracy: 0.8360\n",
            "Epoch 13/100\n",
            "240/240 [==============================] - 4s 15ms/step - loss: 0.4726 - accuracy: 0.8421 - val_loss: 0.4753 - val_accuracy: 0.8376\n",
            "Epoch 14/100\n",
            "240/240 [==============================] - 4s 15ms/step - loss: 0.4660 - accuracy: 0.8436 - val_loss: 0.4696 - val_accuracy: 0.8382\n",
            "Epoch 15/100\n",
            "240/240 [==============================] - 3s 14ms/step - loss: 0.4602 - accuracy: 0.8452 - val_loss: 0.4649 - val_accuracy: 0.8398\n",
            "Epoch 16/100\n",
            "240/240 [==============================] - 3s 15ms/step - loss: 0.4551 - accuracy: 0.8467 - val_loss: 0.4609 - val_accuracy: 0.8412\n",
            "Epoch 17/100\n",
            "240/240 [==============================] - 4s 15ms/step - loss: 0.4504 - accuracy: 0.8476 - val_loss: 0.4586 - val_accuracy: 0.8434\n",
            "Epoch 18/100\n",
            "240/240 [==============================] - 4s 15ms/step - loss: 0.4460 - accuracy: 0.8486 - val_loss: 0.4542 - val_accuracy: 0.8427\n",
            "Epoch 19/100\n",
            "240/240 [==============================] - 4s 15ms/step - loss: 0.4417 - accuracy: 0.8500 - val_loss: 0.4491 - val_accuracy: 0.8433\n",
            "Epoch 20/100\n",
            "240/240 [==============================] - 4s 15ms/step - loss: 0.4380 - accuracy: 0.8510 - val_loss: 0.4448 - val_accuracy: 0.8459\n",
            "Epoch 21/100\n",
            "240/240 [==============================] - 4s 15ms/step - loss: 0.4334 - accuracy: 0.8529 - val_loss: 0.4421 - val_accuracy: 0.8471\n",
            "Epoch 22/100\n",
            "240/240 [==============================] - 3s 14ms/step - loss: 0.4306 - accuracy: 0.8542 - val_loss: 0.4392 - val_accuracy: 0.8468\n",
            "Epoch 23/100\n",
            "240/240 [==============================] - 3s 14ms/step - loss: 0.4274 - accuracy: 0.8545 - val_loss: 0.4413 - val_accuracy: 0.8480\n",
            "Epoch 24/100\n",
            "240/240 [==============================] - 3s 15ms/step - loss: 0.4243 - accuracy: 0.8555 - val_loss: 0.4331 - val_accuracy: 0.8509\n",
            "Epoch 25/100\n",
            "240/240 [==============================] - 3s 14ms/step - loss: 0.4214 - accuracy: 0.8569 - val_loss: 0.4299 - val_accuracy: 0.8508\n",
            "Epoch 26/100\n",
            "240/240 [==============================] - 3s 14ms/step - loss: 0.4185 - accuracy: 0.8577 - val_loss: 0.4278 - val_accuracy: 0.8511\n",
            "Epoch 27/100\n",
            "240/240 [==============================] - 4s 15ms/step - loss: 0.4161 - accuracy: 0.8583 - val_loss: 0.4287 - val_accuracy: 0.8529\n",
            "Epoch 28/100\n",
            "240/240 [==============================] - 4s 15ms/step - loss: 0.4128 - accuracy: 0.8588 - val_loss: 0.4234 - val_accuracy: 0.8522\n",
            "Epoch 29/100\n",
            "240/240 [==============================] - 3s 15ms/step - loss: 0.4108 - accuracy: 0.8598 - val_loss: 0.4213 - val_accuracy: 0.8542\n",
            "Epoch 30/100\n",
            "240/240 [==============================] - 4s 15ms/step - loss: 0.4082 - accuracy: 0.8612 - val_loss: 0.4227 - val_accuracy: 0.8535\n",
            "Epoch 31/100\n",
            "240/240 [==============================] - 4s 15ms/step - loss: 0.4061 - accuracy: 0.8615 - val_loss: 0.4177 - val_accuracy: 0.8563\n",
            "Epoch 32/100\n",
            "240/240 [==============================] - 4s 15ms/step - loss: 0.4036 - accuracy: 0.8608 - val_loss: 0.4155 - val_accuracy: 0.8559\n",
            "Epoch 33/100\n",
            "240/240 [==============================] - 4s 15ms/step - loss: 0.4017 - accuracy: 0.8627 - val_loss: 0.4141 - val_accuracy: 0.8545\n",
            "Epoch 34/100\n",
            "240/240 [==============================] - 4s 15ms/step - loss: 0.3989 - accuracy: 0.8638 - val_loss: 0.4113 - val_accuracy: 0.8587\n",
            "Epoch 35/100\n",
            "240/240 [==============================] - 4s 15ms/step - loss: 0.3972 - accuracy: 0.8640 - val_loss: 0.4135 - val_accuracy: 0.8581\n",
            "Epoch 36/100\n",
            "240/240 [==============================] - 4s 15ms/step - loss: 0.3952 - accuracy: 0.8651 - val_loss: 0.4084 - val_accuracy: 0.8586\n",
            "Epoch 37/100\n",
            "240/240 [==============================] - 3s 15ms/step - loss: 0.3931 - accuracy: 0.8658 - val_loss: 0.4110 - val_accuracy: 0.8570\n",
            "Epoch 38/100\n",
            "240/240 [==============================] - 4s 15ms/step - loss: 0.3915 - accuracy: 0.8662 - val_loss: 0.4059 - val_accuracy: 0.8585\n",
            "Epoch 39/100\n",
            "240/240 [==============================] - 3s 15ms/step - loss: 0.3896 - accuracy: 0.8676 - val_loss: 0.4064 - val_accuracy: 0.8592\n",
            "Epoch 40/100\n",
            "240/240 [==============================] - 4s 15ms/step - loss: 0.3877 - accuracy: 0.8679 - val_loss: 0.4030 - val_accuracy: 0.8621\n",
            "Epoch 41/100\n",
            "240/240 [==============================] - 4s 15ms/step - loss: 0.3857 - accuracy: 0.8684 - val_loss: 0.4036 - val_accuracy: 0.8612\n",
            "Epoch 42/100\n",
            "240/240 [==============================] - 4s 15ms/step - loss: 0.3843 - accuracy: 0.8687 - val_loss: 0.4001 - val_accuracy: 0.8633\n",
            "Epoch 43/100\n",
            "240/240 [==============================] - 4s 15ms/step - loss: 0.3824 - accuracy: 0.8690 - val_loss: 0.3986 - val_accuracy: 0.8631\n",
            "Epoch 44/100\n",
            "240/240 [==============================] - 4s 15ms/step - loss: 0.3808 - accuracy: 0.8689 - val_loss: 0.3974 - val_accuracy: 0.8614\n",
            "Epoch 45/100\n",
            "240/240 [==============================] - 4s 15ms/step - loss: 0.3796 - accuracy: 0.8697 - val_loss: 0.3958 - val_accuracy: 0.8652\n",
            "Epoch 46/100\n",
            "240/240 [==============================] - 4s 15ms/step - loss: 0.3777 - accuracy: 0.8707 - val_loss: 0.3952 - val_accuracy: 0.8643\n",
            "Epoch 47/100\n",
            "240/240 [==============================] - 4s 15ms/step - loss: 0.3763 - accuracy: 0.8704 - val_loss: 0.3979 - val_accuracy: 0.8628\n",
            "Epoch 48/100\n",
            "240/240 [==============================] - 4s 15ms/step - loss: 0.3744 - accuracy: 0.8725 - val_loss: 0.3926 - val_accuracy: 0.8633\n",
            "Epoch 49/100\n",
            "240/240 [==============================] - 4s 15ms/step - loss: 0.3731 - accuracy: 0.8722 - val_loss: 0.3920 - val_accuracy: 0.8634\n",
            "Epoch 50/100\n",
            "240/240 [==============================] - 4s 15ms/step - loss: 0.3719 - accuracy: 0.8717 - val_loss: 0.3944 - val_accuracy: 0.8650\n",
            "Epoch 51/100\n",
            "240/240 [==============================] - 4s 15ms/step - loss: 0.3702 - accuracy: 0.8735 - val_loss: 0.3913 - val_accuracy: 0.8638\n",
            "Epoch 52/100\n",
            "240/240 [==============================] - 4s 16ms/step - loss: 0.3690 - accuracy: 0.8733 - val_loss: 0.3885 - val_accuracy: 0.8663\n",
            "Epoch 53/100\n",
            "240/240 [==============================] - 4s 15ms/step - loss: 0.3676 - accuracy: 0.8735 - val_loss: 0.3882 - val_accuracy: 0.8660\n",
            "Epoch 54/100\n",
            "240/240 [==============================] - 4s 15ms/step - loss: 0.3662 - accuracy: 0.8750 - val_loss: 0.3890 - val_accuracy: 0.8642\n",
            "Epoch 55/100\n",
            "240/240 [==============================] - 4s 15ms/step - loss: 0.3644 - accuracy: 0.8750 - val_loss: 0.3865 - val_accuracy: 0.8658\n",
            "Epoch 56/100\n",
            "240/240 [==============================] - 4s 15ms/step - loss: 0.3634 - accuracy: 0.8755 - val_loss: 0.3863 - val_accuracy: 0.8658\n",
            "Epoch 57/100\n",
            "240/240 [==============================] - 3s 15ms/step - loss: 0.3623 - accuracy: 0.8754 - val_loss: 0.3850 - val_accuracy: 0.8668\n",
            "Epoch 58/100\n",
            "240/240 [==============================] - 3s 15ms/step - loss: 0.3608 - accuracy: 0.8771 - val_loss: 0.3839 - val_accuracy: 0.8669\n",
            "Epoch 59/100\n",
            "240/240 [==============================] - 3s 14ms/step - loss: 0.3592 - accuracy: 0.8770 - val_loss: 0.3817 - val_accuracy: 0.8672\n",
            "Epoch 60/100\n",
            "240/240 [==============================] - 4s 15ms/step - loss: 0.3582 - accuracy: 0.8763 - val_loss: 0.3812 - val_accuracy: 0.8662\n",
            "Epoch 61/100\n",
            "240/240 [==============================] - 4s 15ms/step - loss: 0.3572 - accuracy: 0.8772 - val_loss: 0.3813 - val_accuracy: 0.8659\n",
            "Epoch 62/100\n",
            "240/240 [==============================] - 4s 15ms/step - loss: 0.3558 - accuracy: 0.8778 - val_loss: 0.3806 - val_accuracy: 0.8668\n",
            "Epoch 63/100\n",
            "240/240 [==============================] - 4s 15ms/step - loss: 0.3546 - accuracy: 0.8780 - val_loss: 0.3789 - val_accuracy: 0.8699\n",
            "Epoch 64/100\n",
            "240/240 [==============================] - 4s 15ms/step - loss: 0.3535 - accuracy: 0.8782 - val_loss: 0.3797 - val_accuracy: 0.8682\n",
            "Epoch 65/100\n",
            "240/240 [==============================] - 4s 15ms/step - loss: 0.3524 - accuracy: 0.8786 - val_loss: 0.3762 - val_accuracy: 0.8684\n",
            "Epoch 66/100\n",
            "240/240 [==============================] - 4s 15ms/step - loss: 0.3509 - accuracy: 0.8792 - val_loss: 0.3792 - val_accuracy: 0.8683\n",
            "Epoch 67/100\n",
            "240/240 [==============================] - 4s 15ms/step - loss: 0.3499 - accuracy: 0.8795 - val_loss: 0.3777 - val_accuracy: 0.8690\n",
            "Epoch 68/100\n",
            "240/240 [==============================] - 4s 15ms/step - loss: 0.3491 - accuracy: 0.8803 - val_loss: 0.3738 - val_accuracy: 0.8695\n",
            "Epoch 69/100\n",
            "240/240 [==============================] - 4s 15ms/step - loss: 0.3478 - accuracy: 0.8800 - val_loss: 0.3733 - val_accuracy: 0.8696\n",
            "Epoch 70/100\n",
            "240/240 [==============================] - 4s 15ms/step - loss: 0.3463 - accuracy: 0.8811 - val_loss: 0.3725 - val_accuracy: 0.8697\n",
            "Epoch 71/100\n",
            "240/240 [==============================] - 4s 15ms/step - loss: 0.3457 - accuracy: 0.8811 - val_loss: 0.3717 - val_accuracy: 0.8702\n",
            "Epoch 72/100\n",
            "240/240 [==============================] - 4s 15ms/step - loss: 0.3445 - accuracy: 0.8809 - val_loss: 0.3766 - val_accuracy: 0.8685\n",
            "Epoch 73/100\n",
            "240/240 [==============================] - 4s 15ms/step - loss: 0.3432 - accuracy: 0.8818 - val_loss: 0.3739 - val_accuracy: 0.8697\n",
            "Epoch 74/100\n",
            "240/240 [==============================] - 4s 15ms/step - loss: 0.3422 - accuracy: 0.8820 - val_loss: 0.3693 - val_accuracy: 0.8709\n",
            "Epoch 75/100\n",
            "240/240 [==============================] - 4s 15ms/step - loss: 0.3415 - accuracy: 0.8820 - val_loss: 0.3714 - val_accuracy: 0.8722\n",
            "Epoch 76/100\n",
            "240/240 [==============================] - 4s 15ms/step - loss: 0.3404 - accuracy: 0.8828 - val_loss: 0.3684 - val_accuracy: 0.8713\n",
            "Epoch 77/100\n",
            "240/240 [==============================] - 4s 15ms/step - loss: 0.3393 - accuracy: 0.8834 - val_loss: 0.3711 - val_accuracy: 0.8698\n",
            "Epoch 78/100\n",
            "240/240 [==============================] - 4s 15ms/step - loss: 0.3383 - accuracy: 0.8829 - val_loss: 0.3673 - val_accuracy: 0.8702\n",
            "Epoch 79/100\n",
            "240/240 [==============================] - 3s 15ms/step - loss: 0.3368 - accuracy: 0.8839 - val_loss: 0.3689 - val_accuracy: 0.8702\n",
            "Epoch 80/100\n",
            "240/240 [==============================] - 4s 15ms/step - loss: 0.3361 - accuracy: 0.8833 - val_loss: 0.3666 - val_accuracy: 0.8718\n",
            "Epoch 81/100\n",
            "240/240 [==============================] - 4s 15ms/step - loss: 0.3352 - accuracy: 0.8845 - val_loss: 0.3661 - val_accuracy: 0.8722\n",
            "Epoch 82/100\n",
            "240/240 [==============================] - 4s 15ms/step - loss: 0.3343 - accuracy: 0.8847 - val_loss: 0.3653 - val_accuracy: 0.8736\n",
            "Epoch 83/100\n",
            "240/240 [==============================] - 4s 15ms/step - loss: 0.3331 - accuracy: 0.8852 - val_loss: 0.3675 - val_accuracy: 0.8714\n",
            "Epoch 84/100\n",
            "240/240 [==============================] - 4s 15ms/step - loss: 0.3327 - accuracy: 0.8847 - val_loss: 0.3646 - val_accuracy: 0.8706\n",
            "Epoch 85/100\n",
            "240/240 [==============================] - 4s 15ms/step - loss: 0.3313 - accuracy: 0.8857 - val_loss: 0.3646 - val_accuracy: 0.8720\n",
            "Epoch 86/100\n",
            "240/240 [==============================] - 4s 15ms/step - loss: 0.3305 - accuracy: 0.8859 - val_loss: 0.3642 - val_accuracy: 0.8725\n",
            "Epoch 87/100\n",
            "240/240 [==============================] - 4s 15ms/step - loss: 0.3292 - accuracy: 0.8861 - val_loss: 0.3615 - val_accuracy: 0.8740\n",
            "Epoch 88/100\n",
            "240/240 [==============================] - 4s 15ms/step - loss: 0.3280 - accuracy: 0.8869 - val_loss: 0.3649 - val_accuracy: 0.8717\n",
            "Epoch 89/100\n",
            "240/240 [==============================] - 4s 15ms/step - loss: 0.3278 - accuracy: 0.8865 - val_loss: 0.3606 - val_accuracy: 0.8727\n",
            "Epoch 90/100\n",
            "240/240 [==============================] - 4s 15ms/step - loss: 0.3270 - accuracy: 0.8867 - val_loss: 0.3607 - val_accuracy: 0.8723\n",
            "Epoch 91/100\n",
            "240/240 [==============================] - 3s 15ms/step - loss: 0.3261 - accuracy: 0.8874 - val_loss: 0.3595 - val_accuracy: 0.8738\n",
            "Epoch 92/100\n",
            "240/240 [==============================] - 4s 15ms/step - loss: 0.3247 - accuracy: 0.8881 - val_loss: 0.3598 - val_accuracy: 0.8728\n",
            "Epoch 93/100\n",
            "240/240 [==============================] - 4s 15ms/step - loss: 0.3236 - accuracy: 0.8878 - val_loss: 0.3589 - val_accuracy: 0.8737\n",
            "Epoch 94/100\n",
            "240/240 [==============================] - 4s 15ms/step - loss: 0.3229 - accuracy: 0.8886 - val_loss: 0.3574 - val_accuracy: 0.8752\n",
            "Epoch 95/100\n",
            "240/240 [==============================] - 4s 15ms/step - loss: 0.3222 - accuracy: 0.8888 - val_loss: 0.3575 - val_accuracy: 0.8743\n",
            "Epoch 96/100\n",
            "240/240 [==============================] - 4s 15ms/step - loss: 0.3214 - accuracy: 0.8886 - val_loss: 0.3565 - val_accuracy: 0.8745\n",
            "Epoch 97/100\n",
            "240/240 [==============================] - 4s 15ms/step - loss: 0.3207 - accuracy: 0.8886 - val_loss: 0.3577 - val_accuracy: 0.8751\n",
            "Epoch 98/100\n",
            "240/240 [==============================] - 4s 15ms/step - loss: 0.3193 - accuracy: 0.8891 - val_loss: 0.3564 - val_accuracy: 0.8742\n",
            "Epoch 99/100\n",
            "240/240 [==============================] - 4s 15ms/step - loss: 0.3192 - accuracy: 0.8891 - val_loss: 0.3574 - val_accuracy: 0.8747\n",
            "Epoch 100/100\n",
            "240/240 [==============================] - 4s 15ms/step - loss: 0.3180 - accuracy: 0.8906 - val_loss: 0.3544 - val_accuracy: 0.8767\n"
          ],
          "name": "stdout"
        }
      ]
    },
    {
      "cell_type": "markdown",
      "metadata": {
        "id": "CphUBxULcNrw",
        "colab_type": "text"
      },
      "source": [
        "Check"
      ]
    },
    {
      "cell_type": "code",
      "metadata": {
        "id": "V-VoT9qAcM4O",
        "colab_type": "code",
        "colab": {
          "base_uri": "https://localhost:8080/",
          "height": 87
        },
        "outputId": "7a05aafb-52e8-4e04-8b1e-555a4030b9ba"
      },
      "source": [
        "# Оценка качества обучения сети на входных (тестовых) данных\n",
        "score = model.evaluate(x_test, y_test, verbose=1)\n",
        "print(\"/n\")\n",
        "print(\"Доля верных ответов на тестовых данных:\", round(score[1] * 100, 4), \"%\")"
      ],
      "execution_count": 14,
      "outputs": [
        {
          "output_type": "stream",
          "text": [
            "313/313 [==============================] - 1s 3ms/step - loss: 0.3773 - accuracy: 0.8684\n",
            "/n\n",
            "Доля верных ответов на тестовых данных: 86.84 %\n"
          ],
          "name": "stdout"
        }
      ]
    },
    {
      "cell_type": "markdown",
      "metadata": {
        "id": "tIb2-Yj_c62k",
        "colab_type": "text"
      },
      "source": [
        "Save web"
      ]
    },
    {
      "cell_type": "code",
      "metadata": {
        "id": "R_BtkQasdloF",
        "colab_type": "code",
        "colab": {}
      },
      "source": [
        "# сохраним обученную сеть\n",
        "model.save('fashon2.h5')\n",
        "files.download('fashon2.h5')"
      ],
      "execution_count": 0,
      "outputs": []
    },
    {
      "cell_type": "markdown",
      "metadata": {
        "id": "D_y3OEGZrBBJ",
        "colab_type": "text"
      },
      "source": [
        "Practicle"
      ]
    },
    {
      "cell_type": "code",
      "metadata": {
        "id": "tRglKNkQsWCG",
        "colab_type": "code",
        "colab": {
          "resources": {
            "http://localhost:8080/nbextensions/google.colab/files.js": {
              "data": "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",
              "ok": true,
              "headers": [
                [
                  "content-type",
                  "application/javascript"
                ]
              ],
              "status": 200,
              "status_text": ""
            }
          },
          "base_uri": "https://localhost:8080/",
          "height": 74
        },
        "outputId": "bd4dee9a-a802-471a-c5fa-8fca5966cdce"
      },
      "source": [
        "p = files.upload()\n",
        "pic_path = 'tshort.jpg'\n",
        "#Image(pic_path, width=150, height=150)"
      ],
      "execution_count": 26,
      "outputs": [
        {
          "output_type": "display_data",
          "data": {
            "text/html": [
              "\n",
              "     <input type=\"file\" id=\"files-edaadd84-adef-4e10-8b22-70b485af1c9f\" name=\"files[]\" multiple disabled />\n",
              "     <output id=\"result-edaadd84-adef-4e10-8b22-70b485af1c9f\">\n",
              "      Upload widget is only available when the cell has been executed in the\n",
              "      current browser session. Please rerun this cell to enable.\n",
              "      </output>\n",
              "      <script src=\"/nbextensions/google.colab/files.js\"></script> "
            ],
            "text/plain": [
              "<IPython.core.display.HTML object>"
            ]
          },
          "metadata": {
            "tags": []
          }
        },
        {
          "output_type": "stream",
          "text": [
            "Saving tshort.jpg to tshort (3).jpg\n"
          ],
          "name": "stdout"
        }
      ]
    },
    {
      "cell_type": "code",
      "metadata": {
        "id": "KBGcX_2htOrO",
        "colab_type": "code",
        "colab": {
          "base_uri": "https://localhost:8080/",
          "height": 34
        },
        "outputId": "316051fe-780f-4764-d016-12bab69f1499"
      },
      "source": [
        "# преобразуем в серую картинку размера 28 х 28\n",
        "pic = image.load_img(pic_path, target_size=(28,28), color_mode = \"grayscale\")\n",
        "\n",
        "# в массив\n",
        "t_p = image.img_to_array(pic)\n",
        "\n",
        "# в плоский вектор\n",
        "t_p = t_p.reshape(1, 784)\n",
        "\n",
        "# инвертируем (fasion_MNIST использует другое представление \n",
        "# цветов, потому инвертируем)\n",
        "t_p = 255 - t_p\n",
        "\n",
        "# нормализуем\n",
        "t_p /= 255\n",
        "\n",
        "pr = model.predict(t_p)\n",
        "answer = np.argmax(pr)\n",
        "print(classes[answer])\n"
      ],
      "execution_count": 27,
      "outputs": [
        {
          "output_type": "stream",
          "text": [
            "футблока\n"
          ],
          "name": "stdout"
        }
      ]
    }
  ]
}